import pandas as pd

# 1. 导入pandas库
# import the pandas package and give an alias as 'pd'
print("### 1. 导入pandas库")
import pandas as pd

# 2. 理解Series与list的区别
print("### 2. 理解Series与list的区别")
# x是一个列表
x = ['a', 'b', 'c']
y = pd.Series(['a', 'b', 'c'])

print(x)
print(y)

# 3. 通过索引访问list和Series中的元素
print("### 3. 通过索引访问list和Series中的元素")
print(x[1])
print(y[1])

# 4. 创建带有自定义索引的Series并访问元素
print("### 4. 创建带有自定义索引的Series并访问元素")
# y是一个带有索引["Team A", "Team B", "Team C"]的Series
score = pd.Series([56, 57, 62], index=["Team A", "Team B", "Team C"])
print(score)

# 可以通过以下两种方式获取Team C的分数
print(score[2])
print(score["Team C"])

# 5. 创建学生成绩相关的Series
print("### 5. 创建学生成绩相关的Series")
student_name = ['Peter', 'Joe', 'Kris', 'Amy', 'Alfred', 'Jan', 'Bill', 'Christine', 'Roy', 'Phoebe']
assignment1 = pd.Series([60, 75, 95, 90, 35, 65, 80, 90, 75, 70], index=student_name)
assignment2 = pd.Series([60, 80, 100, 85, 70, 80, 60, 85, 70, 60], index=student_name)

print(assignment1)
print(assignment2)

# 6. 练习1：获取Joe的作业1和作业2成绩
print("### 6. 练习1：获取Joe的作业1和作业2成绩")
print("Joe的作业1成绩：", assignment1['Joe'])
print("Joe的作业2成绩：", assignment2['Joe'])

# 7. 练习2：计算作业1的平均成绩、最高成绩、最低成绩和标准差
print("### 7. 练习2：计算作业1的平均成绩、最高成绩、最低成绩和标准差")
print("作业1平均成绩：", assignment1.mean())
print("作业1最高成绩：", assignment1.max())
print("作业1最低成绩：", assignment1.min())
print("作业1标准差：", assignment1.std())

# 8. 通过两个Series创建DataFrame
print("### 8. 通过两个Series创建DataFrame")
# data是一个Python字典
data = {
    "assignment 1": assignment1,
    "assignment 2": assignment2
}
result = pd.DataFrame(data)
print(result)

# 9. 通过索引名称获取Kris的成绩（使用.loc）
print("### 9. 通过索引名称获取Kris的成绩（使用.loc）")
result.loc["Kris"]

# 10. 通过索引编号获取Kris的成绩（使用.iloc）
print("### 10. 通过索引编号获取Kris的成绩（使用.iloc）")
# 索引编号从0开始，第3个项目的索引编号为2
result.iloc[2]

# 11. 为新学生Raymond添加成绩数据
print("### 11. 为新学生Raymond添加成绩数据")
# 创建一个包含Raymond成绩的Series
ray_marks = pd.Series([60, 70], index=["assignment 1", "assignment 2"])
ray_marks

# 创建一个以"Raymond"为行索引的DataFrame（索引必须是数组，即使只有一条记录）
ray_record = pd.DataFrame([ray_marks], index=["Raymond"])
ray_record

# 将两个DataFrame连接在一起
result = pd.concat([result, ray_record])
print(result)

# 12. 对DataFrame进行描述性统计
print("### 12. 对DataFrame进行描述性统计")
result.describe()

# 13. 从CSV文件加载数据到DataFrame（此处仅为示例，可能需要调整路径）
print("### 13. 从CSV文件加载数据到DataFrame（此处仅为示例，可能需要调整路径）")
URI = 'https://raw.githubusercontent.com/kwongwaiman/BHMS3323_2223/94bde0f1f514209a6d299d1326bf247646733bb6/data/lab4_marks.csv'
marks = pd.read_csv(URI)
# marks = pd.read_csv("data/lab4_marks.csv")
print(marks)

# 14. 计算总成绩
print("### 14. 计算总成绩")
def cal_total(hw1, hw2, exam):
    return (hw1 * 0.3 + hw2 * 0.3 + exam * 0.4)

marks['total'] = marks.apply(lambda row: cal_total(row['Assignment 1'], row['Assignment 2'], row['Final Exam']), axis=1)
print(marks)

# 15. 定义成绩等级函数grade()
print("### 15. 定义成绩等级函数grade()")
def grade(marks):
    grade = 'F'
    if marks > 0 and marks < 40:
        grade = 'F'
    elif marks >= 40 and marks < 60:
        grade = 'D'
    elif marks >= 60 and marks < 70:
        grade = 'C'
    elif marks >= 70 and marks < 80:
        grade = 'B'
    elif marks >= 80:
        grade = 'A'
    return grade

# 16. （练习）为学生添加成绩等级列（可参考以下代码）
print("### 16. （练习）为学生添加成绩等级列（可参考以下代码）")
marks['grade'] = marks['total'].apply(grade)
print(marks)
